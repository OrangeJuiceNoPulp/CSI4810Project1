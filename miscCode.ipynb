{
 "cells": [
  {
   "cell_type": "code",
   "execution_count": 1,
   "id": "2b44c0cc-c842-4f59-8897-fe011a50119b",
   "metadata": {},
   "outputs": [],
   "source": [
    "import gradio as gr\n",
    "\n",
    "import numpy as np\n",
    "import pandas as pd\n",
    "import matplotlib.pyplot as plt\n",
    "\n",
    "from sklearn.linear_model import LogisticRegression\n",
    "from sklearn import preprocessing\n",
    "from sklearn import metrics\n",
    "from sklearn.neighbors import KNeighborsClassifier\n",
    "from sklearn.tree import DecisionTreeClassifier\n",
    "from sklearn.ensemble import RandomForestClassifier\n",
    "\n",
    "from sklearn.ensemble import IsolationForest\n",
    "from sklearn.model_selection import cross_validate"
   ]
  },
  {
   "cell_type": "code",
   "execution_count": 2,
   "id": "46b3dd28-8df8-4e66-992e-efecb3ca3a6b",
   "metadata": {},
   "outputs": [],
   "source": [
    "df = pd.read_csv(\"train.csv\")"
   ]
  },
  {
   "cell_type": "code",
   "execution_count": 3,
   "id": "24eccf65-9393-4ab7-9806-489356a4386e",
   "metadata": {},
   "outputs": [
    {
     "name": "stdout",
     "output_type": "stream",
     "text": [
      "No Duplicates\n"
     ]
    }
   ],
   "source": [
    "# Check for duplicate entries\n",
    "training_features = df.drop(['Cover_Type','Id'], axis=1)\n",
    "if len(training_features.duplicated().unique()) > 1:\n",
    "    print('Has Duplicates')\n",
    "else:\n",
    "    print('No Duplicates')"
   ]
  },
  {
   "cell_type": "code",
   "execution_count": 4,
   "id": "96f4af88-77af-4486-b86d-f9cc174374d6",
   "metadata": {},
   "outputs": [
    {
     "name": "stdout",
     "output_type": "stream",
     "text": [
      "Number of Cover Type 1: \n",
      "2160\n",
      "Number of Cover Type 2: \n",
      "2160\n",
      "Number of Cover Type 3: \n",
      "2160\n",
      "Number of Cover Type 4: \n",
      "2160\n",
      "Number of Cover Type 5: \n",
      "2160\n",
      "Number of Cover Type 6: \n",
      "2160\n",
      "Number of Cover Type 7: \n",
      "2160\n"
     ]
    }
   ],
   "source": [
    "# Check class distribution\n",
    "targets = df['Cover_Type']\n",
    "for i in range(1,8):\n",
    "    print(\"Number of Cover Type \" + str(i) + \": \")\n",
    "    print(targets[targets == i].count())"
   ]
  },
  {
   "cell_type": "code",
   "execution_count": 5,
   "id": "ce247443-df30-4eb6-9ae5-c7e3ce943da6",
   "metadata": {},
   "outputs": [
    {
     "name": "stdout",
     "output_type": "stream",
     "text": [
      "Number of examples with a soil type:\n",
      "15120\n",
      "Number of examples with a wilderness type:\n",
      "15120\n"
     ]
    }
   ],
   "source": [
    "#All examples have a soil type\n",
    "my_count = 0\n",
    "for i in range(1,41):\n",
    "    soil_type = 'Soil_Type' + str(i)\n",
    "    my_count += df[soil_type][df[soil_type] == 1].count()\n",
    "\n",
    "print(\"Number of examples with a soil type:\")\n",
    "print(my_count)\n",
    "\n",
    "#All examples have a wilderness area\n",
    "my_count = 0\n",
    "for i in range(1,5):\n",
    "    wilderness_type = 'Wilderness_Area' + str(i)\n",
    "    my_count += df[wilderness_type][df[wilderness_type] == 1].count()\n",
    "\n",
    "print(\"Number of examples with a wilderness type:\")\n",
    "print(my_count)"
   ]
  },
  {
   "cell_type": "code",
   "execution_count": 6,
   "id": "252f6132-494e-43ff-846a-0acbf9b89f08",
   "metadata": {},
   "outputs": [
    {
     "name": "stdout",
     "output_type": "stream",
     "text": [
      "2696    2697\n",
      "Name: Id, dtype: int64\n"
     ]
    }
   ],
   "source": [
    "#Outliers Before Preprocessing\n",
    "training_features = df.drop(['Cover_Type','Id'], axis=1)\n",
    "outlier_detector = IsolationForest(random_state=0).fit_predict(training_features)\n",
    "outlier_detector = pd.DataFrame(outlier_detector)\n",
    "print(df['Id'][outlier_detector[0] == -1])"
   ]
  },
  {
   "cell_type": "code",
   "execution_count": 7,
   "id": "afb91277-f336-4a62-85a4-d9ff55e95781",
   "metadata": {},
   "outputs": [],
   "source": [
    "def forest_data_preprocessor(forest_data):\n",
    "    targets = forest_data['Cover_Type']\n",
    "    \n",
    "    #Drop ID and target columns\n",
    "    training_features = forest_data.drop(['Cover_Type','Id'], axis=1)\n",
    "    \n",
    "    \n",
    "    #Hydrology distance euclidean\n",
    "    water_dist = np.asarray([training_features['Horizontal_Distance_To_Hydrology'],training_features['Vertical_Distance_To_Hydrology']])\n",
    "    water_euclidean_dist = np.sqrt(np.square(water_dist[0]) + np.square(water_dist[1]))\n",
    "\n",
    "    training_features['Distance_To_Hydrology'] = pd.Series(water_euclidean_dist)\n",
    "    training_features = training_features.drop(['Horizontal_Distance_To_Hydrology','Vertical_Distance_To_Hydrology'], axis=1)\n",
    "\n",
    "    #Sine of Aspect\n",
    "    aspect = np.asarray(training_features['Aspect'])\n",
    "    aspect_sine = np.sin(aspect * np.pi / 180)\n",
    "\n",
    "    training_features['Sine_Of_Aspect'] = pd.Series(aspect_sine)\n",
    "    \n",
    "    training_features = training_features.drop(['Aspect'], axis=1)\n",
    "    \n",
    "    #Average Hillshade\n",
    "    avg_hillshade = np.asarray([training_features['Hillshade_9am'],training_features['Hillshade_Noon'],training_features['Hillshade_3pm']])\n",
    "    avg_hillshade = (avg_hillshade[0] + avg_hillshade[1] + avg_hillshade[2]) / 3\n",
    "    \n",
    "    training_features['Average_Hillshade'] = pd.Series(avg_hillshade)\n",
    "    \n",
    "    #Drop remaining unwanted features\n",
    "    #training_features = training_features.drop(['Horizontal_Distance_To_Roadways', 'Hillshade_9am', 'Hillshade_Noon','Hillshade_3pm', 'Horizontal_Distance_To_Fire_Points'], axis=1)\n",
    "    training_features = training_features.drop(['Hillshade_9am', 'Hillshade_Noon','Hillshade_3pm'], axis=1)\n",
    "    \n",
    "    \n",
    "    return training_features, targets"
   ]
  },
  {
   "cell_type": "code",
   "execution_count": 8,
   "id": "3562fa12-b7ec-4fc8-aca3-c41ff56fad27",
   "metadata": {},
   "outputs": [
    {
     "name": "stdout",
     "output_type": "stream",
     "text": [
      "0\n"
     ]
    }
   ],
   "source": [
    "#Outliers After Numerical Feature Preprocessing (There are no remaining outliers)\n",
    "training_features, targets = forest_data_preprocessor(df)\n",
    "outlier_detector = IsolationForest(random_state=0).fit_predict(training_features)\n",
    "outlier_detector = pd.DataFrame(outlier_detector)\n",
    "print(df['Id'][outlier_detector[0] == -1].count())"
   ]
  }
 ],
 "metadata": {
  "kernelspec": {
   "display_name": "Python 3 (ipykernel)",
   "language": "python",
   "name": "python3"
  },
  "language_info": {
   "codemirror_mode": {
    "name": "ipython",
    "version": 3
   },
   "file_extension": ".py",
   "mimetype": "text/x-python",
   "name": "python",
   "nbconvert_exporter": "python",
   "pygments_lexer": "ipython3",
   "version": "3.10.6"
  }
 },
 "nbformat": 4,
 "nbformat_minor": 5
}
